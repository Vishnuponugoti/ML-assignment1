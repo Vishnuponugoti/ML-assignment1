{
 "cells": [
  {
   "cell_type": "code",
   "execution_count": 2,
   "id": "49c34496",
   "metadata": {},
   "outputs": [
    {
     "name": "stdout",
     "output_type": "stream",
     "text": [
      "10\n"
     ]
    }
   ],
   "source": [
    "#Given string to variable a\n",
    "a = \"I am a teacher and I love to inspire and teach people\"\n",
    "\n",
    "#Split the given string\n",
    "b = a.split()\n",
    "\n",
    "#Using set to remove duplicates\n",
    "set1 = set(b)\n",
    "\n",
    "#Counting number of words\n",
    "count = len(set1)\n",
    "\n",
    "#Print the result\n",
    "print(count)"
   ]
  }
 ],
 "metadata": {
  "kernelspec": {
   "display_name": "Python 3 (ipykernel)",
   "language": "python",
   "name": "python3"
  },
  "language_info": {
   "codemirror_mode": {
    "name": "ipython",
    "version": 3
   },
   "file_extension": ".py",
   "mimetype": "text/x-python",
   "name": "python",
   "nbconvert_exporter": "python",
   "pygments_lexer": "ipython3",
   "version": "3.11.1"
  }
 },
 "nbformat": 4,
 "nbformat_minor": 5
}
