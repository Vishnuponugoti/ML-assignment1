{
 "cells": [
  {
   "cell_type": "code",
   "execution_count": 2,
   "id": "c26f5a21",
   "metadata": {},
   "outputs": [
    {
     "name": "stdout",
     "output_type": "stream",
     "text": [
      "The area of circle with radius 10 is 314.0 meters square\n"
     ]
    }
   ],
   "source": [
    "#Assigned radius value\n",
    "radius = 10\n",
    "\n",
    "#Area of circle formula\n",
    "area = 3.14*radius**2\n",
    "\n",
    "#Print the result\n",
    "print(\"The area of circle with radius {} is {} meters square\".format(radius,area))"
   ]
  }
 ],
 "metadata": {
  "kernelspec": {
   "display_name": "Python 3 (ipykernel)",
   "language": "python",
   "name": "python3"
  },
  "language_info": {
   "codemirror_mode": {
    "name": "ipython",
    "version": 3
   },
   "file_extension": ".py",
   "mimetype": "text/x-python",
   "name": "python",
   "nbconvert_exporter": "python",
   "pygments_lexer": "ipython3",
   "version": "3.11.1"
  }
 },
 "nbformat": 4,
 "nbformat_minor": 5
}
