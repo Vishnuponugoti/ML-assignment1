{
 "cells": [
  {
   "cell_type": "code",
   "execution_count": 1,
   "id": "e60b539b",
   "metadata": {},
   "outputs": [
    {
     "name": "stdout",
     "output_type": "stream",
     "text": [
      "Area of circle : 2826.0\n",
      "Circumference of circle : 188.4\n",
      "25\n",
      "Area of circle with user input : 1962.5\n"
     ]
    }
   ],
   "source": [
    "# Area of circle\n",
    "# Given radius of circle\n",
    "r = 30\n",
    "\n",
    "#Assigned variable name '_area_of_circle'\n",
    "_area_of_circle = 3.14*(r**2)\n",
    "\n",
    "#Printing the stored value into the variable\n",
    "print(\"Area of circle :\", _area_of_circle)\n",
    "\n",
    "#Circumference of circle\n",
    "#Assigned variable name '_circum_of_circle'\n",
    "_circum_of_circle = 2*3.14*r\n",
    "\n",
    "#Printing the result\n",
    "print(\"Circumference of circle :\", _circum_of_circle)\n",
    "\n",
    "#Area of circle for user input\n",
    "#Take values from user\n",
    "n = int(input())\n",
    "\n",
    "#Assigned variable name 'area'\n",
    "area=3.14*(n**2)\n",
    "\n",
    "#Print the result\n",
    "print(\"Area of circle with user input :\",area)"
   ]
  }
 ],
 "metadata": {
  "kernelspec": {
   "display_name": "Python 3 (ipykernel)",
   "language": "python",
   "name": "python3"
  },
  "language_info": {
   "codemirror_mode": {
    "name": "ipython",
    "version": 3
   },
   "file_extension": ".py",
   "mimetype": "text/x-python",
   "name": "python",
   "nbconvert_exporter": "python",
   "pygments_lexer": "ipython3",
   "version": "3.11.1"
  }
 },
 "nbformat": 4,
 "nbformat_minor": 5
}
