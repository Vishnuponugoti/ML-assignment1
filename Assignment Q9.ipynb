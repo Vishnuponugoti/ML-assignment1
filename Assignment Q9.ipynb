{
 "cells": [
  {
   "cell_type": "code",
   "execution_count": 7,
   "id": "99a12c64",
   "metadata": {},
   "outputs": [
    {
     "name": "stdout",
     "output_type": "stream",
     "text": [
      "Enter the number of students:4\n",
      "Enter weights in lbs for student 1:150\n",
      "Enter weights in lbs for student 2:155\n",
      "Enter weights in lbs for student 3:145\n",
      "Enter weights in lbs for student 4:148\n",
      "weights in kilograms : [68.0388, 70.30676, 65.77083999999999, 67.131616]\n"
     ]
    }
   ],
   "source": [
    "#Convert weight in lbs to kilograms\n",
    "def lbs_to_kilograms(weight):\n",
    "    return weight * 0.453592\n",
    "\n",
    "#Input from user\n",
    "n = int(input(\"Enter the number of students:\"))\n",
    "\n",
    "#Storing weights in lbs\n",
    "weights_lbs = []\n",
    "\n",
    "#Using Iteravtive loop to enter weights from user\n",
    "for i in range(n):\n",
    "    weight = float(input(\"Enter weights in lbs for student {}:\" .format(i+1)))\n",
    "    weights_lbs.append(weight)\n",
    "weights_kilograms = []\n",
    "\n",
    "#Iterative loop to convert lbs to kilograms\n",
    "for weight in weights_lbs:\n",
    "    weight_kg = lbs_to_kilograms(weight)\n",
    "    weights_kilograms.append(weight_kg) \n",
    "    \n",
    "#Print the result\n",
    "print(\"weights in kilograms :\", weights_kilograms)"
   ]
  }
 ],
 "metadata": {
  "kernelspec": {
   "display_name": "Python 3 (ipykernel)",
   "language": "python",
   "name": "python3"
  },
  "language_info": {
   "codemirror_mode": {
    "name": "ipython",
    "version": 3
   },
   "file_extension": ".py",
   "mimetype": "text/x-python",
   "name": "python",
   "nbconvert_exporter": "python",
   "pygments_lexer": "ipython3",
   "version": "3.11.1"
  }
 },
 "nbformat": 4,
 "nbformat_minor": 5
}
