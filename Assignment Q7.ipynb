{
 "cells": [
  {
   "cell_type": "code",
   "execution_count": 6,
   "id": "d95472d7",
   "metadata": {},
   "outputs": [
    {
     "name": "stdout",
     "output_type": "stream",
     "text": [
      "Name    \tAge\tCounter  \tCity\n",
      "Asabeneh\t250\tFinland   \tHelsinki\n"
     ]
    }
   ],
   "source": [
    "#tab escape \n",
    "#Declaring a string to the txt variable\n",
    "txt = \"Name    \\tAge\\tCounter  \\tCity\\nAsabeneh\\t250\\tFinland   \\tHelsinki\"\n",
    "\n",
    "#Print the result\n",
    "print(txt)"
   ]
  }
 ],
 "metadata": {
  "kernelspec": {
   "display_name": "Python 3 (ipykernel)",
   "language": "python",
   "name": "python3"
  },
  "language_info": {
   "codemirror_mode": {
    "name": "ipython",
    "version": 3
   },
   "file_extension": ".py",
   "mimetype": "text/x-python",
   "name": "python",
   "nbconvert_exporter": "python",
   "pygments_lexer": "ipython3",
   "version": "3.11.1"
  }
 },
 "nbformat": 4,
 "nbformat_minor": 5
}
