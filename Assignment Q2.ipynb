{
 "cells": [
  {
   "cell_type": "code",
   "execution_count": 4,
   "id": "abb14f9e",
   "metadata": {},
   "outputs": [
    {
     "name": "stdout",
     "output_type": "stream",
     "text": [
      "Dog dictionary is : {'Name': 'Simba', 'Color': 'White & Brown', 'Breed': 'Shihtzu', 'Legs': 4, 'Age': 2}\n",
      "\n",
      "Student dictionary is : {'first_name': 'Vishnu', 'last_name': 'Ponugoti', 'Gender': 'Male', 'Age': 21, 'Marital status': 'Single', 'Skills': ['C', 'Java'], 'Country': 'India', 'City': 'Nalgonda', 'Address': 'Srinivasa colony, BTS'}\n",
      "Length of student dictionary is : 9\n",
      "student skills are :['C', 'Java']\n",
      "Type of student skills is : <class 'list'>\n",
      "modified student skills : ['C', 'Java', 'Skill A', 'Skill B']\n",
      "dog dictionary keys : ['Name', 'Color', 'Breed', 'Legs', 'Age']\n",
      "student dictionary keys : ['first_name', 'last_name', 'Gender', 'Age', 'Marital status', 'Skills', 'Country', 'City', 'Address']\n",
      "dog dictionary values : ['Simba', 'White & Brown', 'Shihtzu', 4, 2]\n",
      "student dictionary values : ['Vishnu', 'Ponugoti', 'Male', 21, 'Single', ['C', 'Java', 'Skill A', 'Skill B'], 'India', 'Nalgonda', 'Srinivasa colony, BTS']\n"
     ]
    }
   ],
   "source": [
    "# Creating dog dictionary\n",
    "dog=dict()\n",
    "dog[\"Name\"]=\"Simba\"\n",
    "dog[\"Color\"]=\"White & Brown\"\n",
    "dog[\"Breed\"]=\"Shihtzu\"\n",
    "dog[\"Legs\"]=4\n",
    "dog[\"Age\"]=2\n",
    "print(\"Dog dictionary is :\",dog)\n",
    "print()\n",
    "\n",
    "# Creating student dictionary \n",
    "student=dict()\n",
    "student[\"first_name\"]=\"Vishnu\"\n",
    "student[\"last_name\"]=\"Ponugoti\"\n",
    "student[\"Gender\"]=\"Male\"\n",
    "student[\"Age\"]=21\n",
    "student[\"Marital status\"]=\"Single\"\n",
    "student[\"Skills\"]=[\"C\",\"Java\"]\n",
    "student[\"Country\"]=\"India\"\n",
    "student[\"City\"]=\"Nalgonda\"\n",
    "student[\"Address\"]=\"Srinivasa colony, BTS\"\n",
    "print(\"Student dictionary is :\", student)\n",
    "\n",
    "# Length of student dictionary\n",
    "print(\"Length of student dictionary is :\",str(len(student)));\n",
    "\n",
    "# Adding value of student skills and datatype\n",
    "print(\"student skills are :\",end='')\n",
    "print(student[\"Skills\"])\n",
    "print(\"Type of student skills is :\", type(student[\"Skills\"]))\n",
    "\n",
    "# Modifying student skills\n",
    "student[\"Skills\"].append(\"Skill A\")\n",
    "student[\"Skills\"].append(\"Skill B\")\n",
    "print(\"modified student skills :\",student[\"Skills\"])\n",
    "\n",
    "# Getting dictionary keys as list and printing the result\n",
    "dog_keys=list(dog.keys())\n",
    "print(\"dog dictionary keys :\",dog_keys)\n",
    "student_keys=list(student.keys())\n",
    "print(\"student dictionary keys :\",student_keys)\n",
    "dog_values=list(dog.values())\n",
    "print(\"dog dictionary values :\",dog_values)\n",
    "student_values=list(student.values())\n",
    "print(\"student dictionary values :\",student_values)"
   ]
  }
 ],
 "metadata": {
  "kernelspec": {
   "display_name": "Python 3 (ipykernel)",
   "language": "python",
   "name": "python3"
  },
  "language_info": {
   "codemirror_mode": {
    "name": "ipython",
    "version": 3
   },
   "file_extension": ".py",
   "mimetype": "text/x-python",
   "name": "python",
   "nbconvert_exporter": "python",
   "pygments_lexer": "ipython3",
   "version": "3.11.1"
  }
 },
 "nbformat": 4,
 "nbformat_minor": 5
}
