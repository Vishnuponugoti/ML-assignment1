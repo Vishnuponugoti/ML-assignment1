{
 "cells": [
  {
   "cell_type": "code",
   "execution_count": 11,
   "id": "22af672e",
   "metadata": {},
   "outputs": [
    {
     "name": "stdout",
     "output_type": "stream",
     "text": [
      "19\n",
      "26\n",
      "24.0\n",
      "22\n",
      "7\n"
     ]
    }
   ],
   "source": [
    "# Ages of ten students\n",
    "ages=[19,22,19,24,20,25,26,24,25,24]\n",
    "ages.sort()\n",
    "\n",
    "# Finding minimum and maximum age from the list\n",
    "minAge=min(ages)\n",
    "maxAge=max(ages)\n",
    "\n",
    "# Adding minimum and maximum age to the list again\n",
    "ages.append(minAge)\n",
    "ages.append(maxAge)\n",
    "ages.sort()\n",
    "length = len(ages)\n",
    "\n",
    "#Finding the median of ages\n",
    "medianAge = ages[(length+1)//2] if length%2==1 else (ages[length//2]+ages[(length//2)+1])/2\n",
    "sumofAges = sum(ages)\n",
    "\n",
    "# Average of ages\n",
    "averageofAges = sumofAges//length\n",
    "\n",
    "# Range of age\n",
    "rangeofAges = maxAge-minAge\n",
    "\n",
    "# Printing the results\n",
    "print(minAge)\n",
    "print(maxAge)\n",
    "print(medianAge)\n",
    "print(averageofAges)\n",
    "print(rangeofAges)"
   ]
  }
 ],
 "metadata": {
  "kernelspec": {
   "display_name": "Python 3 (ipykernel)",
   "language": "python",
   "name": "python3"
  },
  "language_info": {
   "codemirror_mode": {
    "name": "ipython",
    "version": 3
   },
   "file_extension": ".py",
   "mimetype": "text/x-python",
   "name": "python",
   "nbconvert_exporter": "python",
   "pygments_lexer": "ipython3",
   "version": "3.11.1"
  }
 },
 "nbformat": 4,
 "nbformat_minor": 5
}
