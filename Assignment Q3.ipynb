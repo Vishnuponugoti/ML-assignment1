{
 "cells": [
  {
   "cell_type": "code",
   "execution_count": 8,
   "id": "00e1bbc2",
   "metadata": {},
   "outputs": [
    {
     "name": "stdout",
     "output_type": "stream",
     "text": [
      "brothers are : ('Ram Gopal', 'Vamsi', 'Venkat', 'Vatsav')\n",
      "sisters are : ('Ashritha', 'Shanthi', 'Niharika', 'Dharani', 'Supriya', 'Lekha', 'Mouni', 'Appu')\n",
      "siblings are : ('Ram Gopal', 'Vamsi', 'Venkat', 'Vatsav', 'Ashritha', 'Shanthi', 'Niharika', 'Dharani', 'Supriya', 'Lekha', 'Mouni', 'Appu')\n",
      "number of siblings are : 12\n",
      "family members are : ('father', 'mother', 'Ram Gopal', 'Vamsi', 'Venkat', 'Vatsav', 'Ashritha', 'Shanthi', 'Niharika', 'Dharani', 'Supriya', 'Lekha', 'Mouni', 'Appu')\n"
     ]
    }
   ],
   "source": [
    "# Creating tuples for brothers and sisters\n",
    "sisters=(\"Ashritha\",\"Shanthi\",\"Niharika\",\"Dharani\",\"Supriya\",\"Lekha\",\"Mouni\",\"Appu\")\n",
    "brothers=(\"Ram Gopal\",\"Vamsi\",\"Venkat\", \"Vatsav\")\n",
    "\n",
    "# Printing brothers and sisters\n",
    "print(\"brothers are :\",brothers)\n",
    "print(\"sisters are :\",sisters)\n",
    "\n",
    "# Joining brothers and sisters tuples to siblings\n",
    "siblings=brothers + sisters\n",
    "print(\"siblings are :\",siblings)\n",
    "print(\"number of siblings are :\",len(siblings))\n",
    "\n",
    "# Modifying siblings tuple by adding father and mother name and joining to family members \n",
    "family_members=(\"father\",\"mother\")+siblings\n",
    "print(\"family members are :\",family_members)"
   ]
  }
 ],
 "metadata": {
  "kernelspec": {
   "display_name": "Python 3 (ipykernel)",
   "language": "python",
   "name": "python3"
  },
  "language_info": {
   "codemirror_mode": {
    "name": "ipython",
    "version": 3
   },
   "file_extension": ".py",
   "mimetype": "text/x-python",
   "name": "python",
   "nbconvert_exporter": "python",
   "pygments_lexer": "ipython3",
   "version": "3.11.1"
  }
 },
 "nbformat": 4,
 "nbformat_minor": 5
}
